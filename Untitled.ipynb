{
 "cells": [
  {
   "cell_type": "code",
   "execution_count": 1,
   "id": "661bc9ed-5dea-4842-a720-4e074fd6883e",
   "metadata": {},
   "outputs": [],
   "source": [
    "import json\n",
    "import os"
   ]
  },
  {
   "cell_type": "code",
   "execution_count": 2,
   "id": "702477e7-b4c0-47ba-8750-5b00272acb21",
   "metadata": {},
   "outputs": [],
   "source": [
    "with open('/hdd/datasets/ODOR-v3/coco-style/annotations/instances_train2017.json') as f:\n",
    "    coco = json.load(f)"
   ]
  },
  {
   "cell_type": "code",
   "execution_count": 9,
   "id": "d6e1e811-e228-43f9-b261-ce790e9a42e7",
   "metadata": {},
   "outputs": [],
   "source": [
    "with open('cats.txt',  'w') as f:\n",
    "    f.write('(')\n",
    "    for cat in coco['categories']:\n",
    "        f.write(f' \\\"{cat[\"name\"]}\\\",')\n",
    "    f.write(')')"
   ]
  },
  {
   "cell_type": "code",
   "execution_count": 1,
   "id": "abf23a81-8a2f-47ee-9872-8c0c6e4286f1",
   "metadata": {},
   "outputs": [],
   "source": [
    "import fiftyone as fo"
   ]
  },
  {
   "cell_type": "code",
   "execution_count": 2,
   "id": "2fc612c2-f1f9-438b-bb52-1a670a4de783",
   "metadata": {},
   "outputs": [
    {
     "data": {
      "text/html": [
       "\n",
       "        <iframe\n",
       "            width=\"100%\"\n",
       "            height=\"800\"\n",
       "            src=\"http://localhost:5151/?context=ipython&subscription=368884ac-fe90-48ce-b8e9-af08091a8cb3\"\n",
       "            frameborder=\"0\"\n",
       "            allowfullscreen\n",
       "            \n",
       "        ></iframe>\n",
       "        "
      ],
      "text/plain": [
       "<IPython.lib.display.IFrame at 0x7f2034a35370>"
      ]
     },
     "metadata": {},
     "output_type": "display_data"
    },
    {
     "data": {
      "text/plain": [
       "Dataset:     -\n",
       "Session URL: http://localhost:5151/"
      ]
     },
     "execution_count": 2,
     "metadata": {},
     "output_type": "execute_result"
    }
   ],
   "source": [
    "fo.launch_app()"
   ]
  }
 ],
 "metadata": {
  "kernelspec": {
   "display_name": "Python 3",
   "language": "python",
   "name": "python3"
  },
  "language_info": {
   "codemirror_mode": {
    "name": "ipython",
    "version": 3
   },
   "file_extension": ".py",
   "mimetype": "text/x-python",
   "name": "python",
   "nbconvert_exporter": "python",
   "pygments_lexer": "ipython3",
   "version": "3.8.13"
  }
 },
 "nbformat": 4,
 "nbformat_minor": 5
}
