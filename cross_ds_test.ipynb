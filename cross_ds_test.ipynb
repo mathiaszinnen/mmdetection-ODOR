{
 "cells": [
  {
   "cell_type": "code",
   "execution_count": 1,
   "id": "661bc9ed-5dea-4842-a720-4e074fd6883e",
   "metadata": {},
   "outputs": [],
   "source": [
    "import json\n",
    "import os"
   ]
  },
  {
   "cell_type": "code",
   "execution_count": 3,
   "id": "47e1ccad-bfeb-40a6-8ff8-08eb843ad6d7",
   "metadata": {},
   "outputs": [],
   "source": [
    "with open('data/ODOR-v3/instances_test.json') as f:\n",
    "    odor_test = json.load(f)\n",
    "with open('data/deart/deart_test.json') as f:\n",
    "    deart_test = json.load(f)"
   ]
  },
  {
   "cell_type": "code",
   "execution_count": 4,
   "id": "1ed22b27-bc83-41a0-83c1-9d403d8f24ac",
   "metadata": {},
   "outputs": [],
   "source": [
    "odor_on_deart = {\n",
    "    'images': deart_test['images'],\n",
    "    'annotations': [],\n",
    "    'categories': odor_test['categories']}\n",
    "deart_on_odor = {\n",
    "    'images': odor_test['images'],\n",
    "    'annotations': [],\n",
    "    'categories': deart_test['categories']}\n",
    "with open('data/ODOR-v3/deart_crosseval.json','w') as f:\n",
    "    json.dump(odor_on_deart,f)\n",
    "with open('data/deart/odor_crosseval.json','w') as f:\n",
    "    json.dump(deart_on_odor,f)"
   ]
  },
  {
   "cell_type": "code",
   "execution_count": null,
   "id": "71227831-2f95-444e-8f4d-c2904479f26a",
   "metadata": {},
   "outputs": [],
   "source": []
  },
  {
   "cell_type": "code",
   "execution_count": null,
   "id": "257f87ca-c3c5-40a1-a2d9-fadde08e8ee9",
   "metadata": {},
   "outputs": [],
   "source": []
  }
 ],
 "metadata": {
  "kernelspec": {
   "display_name": "Python 3 (ipykernel)",
   "language": "python",
   "name": "python3"
  },
  "language_info": {
   "codemirror_mode": {
    "name": "ipython",
    "version": 3
   },
   "file_extension": ".py",
   "mimetype": "text/x-python",
   "name": "python",
   "nbconvert_exporter": "python",
   "pygments_lexer": "ipython3",
   "version": "3.8.13"
  }
 },
 "nbformat": 4,
 "nbformat_minor": 5
}
